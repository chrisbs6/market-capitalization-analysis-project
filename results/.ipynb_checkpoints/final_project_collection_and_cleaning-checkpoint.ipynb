{
 "cells": [
  {
   "cell_type": "code",
   "execution_count": 1,
   "id": "bd121017-1be7-4c1d-b651-85c2588fc132",
   "metadata": {},
   "outputs": [],
   "source": [
    "import os\n",
    "import re\n",
    "import csv\n",
    "import json\n",
    "import requests\n",
    "import numpy as np\n",
    "import pandas as pd\n",
    "import yfinance as yf\n",
    "import matplotlib.pyplot as plt\n",
    "from fredapi import Fred\n",
    "from bs4 import BeautifulSoup\n",
    "from datetime import datetime"
   ]
  },
  {
   "cell_type": "markdown",
   "id": "e3b84584-ed59-4301-a3b0-241c1e917cb0",
   "metadata": {
    "tags": []
   },
   "source": [
    "### Data Collection and Cleaning"
   ]
  },
  {
   "cell_type": "markdown",
   "id": "787861c4-b280-4fe4-a986-bb0c35e04150",
   "metadata": {
    "tags": []
   },
   "source": [
    "The csv file was first downloaded from companiesmarketcap.com as:  \n",
    "--> \"companiesmarketcap.com - Companies ranked by Market Cap - CompaniesMarketCap.com.csv\"  \n",
    "but was then processed to create the file:  \n",
    "--> \"marketcap.csv\"  "
   ]
  },
  {
   "cell_type": "code",
   "execution_count": 2,
   "id": "31c518a2-5cf9-45c7-ac4c-2eb89cb68bcd",
   "metadata": {},
   "outputs": [
    {
     "name": "stdout",
     "output_type": "stream",
     "text": [
      "File downloaded successfully: data/raw/marketcap.csv\n"
     ]
    }
   ],
   "source": [
    "import get_data\n",
    "get_data.main()"
   ]
  },
  {
   "cell_type": "code",
   "execution_count": 3,
   "id": "4bde1bc0-f1ce-4b95-bf13-9af204766837",
   "metadata": {},
   "outputs": [],
   "source": [
    "# Get the current Top 20 Companies by Market Capitalization\n",
    "\n",
    "data = pd.read_csv('marketcap.csv', index_col='Rank')\n",
    "data_sorted = data.sort_index()\n",
    "data_sorted = data_sorted.rename(columns={\n",
    "    'marketcap': 'Market Cap (USD)',\n",
    "    'price (USD)': 'Price (USD)',\n",
    "    'country': 'Country'})\n",
    "data_df = data_sorted[data_sorted['Market Cap (USD)'] > 0]\n",
    "top20 = data_df[data_df.index <= 20]"
   ]
  },
  {
   "cell_type": "code",
   "execution_count": 4,
   "id": "c5f1f824-bda2-4725-a51b-3471c4b4a2e8",
   "metadata": {},
   "outputs": [],
   "source": [
    "# Create a dictionary of the Top 20 Companies in the format 'Name: Symbol'\n",
    "\n",
    "ns_dict = top20.set_index('Name')['Symbol'].to_dict()"
   ]
  },
  {
   "cell_type": "code",
   "execution_count": 5,
   "id": "d54b4c91-470f-464d-8160-3fdb407d7b55",
   "metadata": {},
   "outputs": [],
   "source": [
    "# Create a DataFrame consisting of Names and Symbols\n",
    "\n",
    "names = list(ns_dict.keys())\n",
    "symbols = list(ns_dict.values())\n",
    "ns = pd.DataFrame({'Name': names, 'Symbol': symbols})\n",
    "ns = ns.set_index(top20.index)"
   ]
  },
  {
   "cell_type": "code",
   "execution_count": 6,
   "id": "7c3e8a0d-fe7f-4061-8577-96153a64d888",
   "metadata": {},
   "outputs": [],
   "source": [
    "# Initializing the DataFrame\n",
    "\n",
    "years = list(range(2003, 2023))\n",
    "company_dataframes = {}\n",
    "for year in years:\n",
    "    variables = {\n",
    "        'Year': year,\n",
    "        'Company Name': list(ns_dict.keys()),\n",
    "        'Symbol': list(ns_dict.values()),\n",
    "        'Stock Price': [0.0] * len(ns_dict),\n",
    "        'Market Cap': [0] * len(ns_dict),\n",
    "        'Revenue': [0.0] * len(ns_dict),\n",
    "        'Revenue Growth': [0.0] * len(ns_dict),\n",
    "        'NetIncomeLoss': [0.0] * len(ns_dict),\n",
    "        'Net Profit Margin': [0.0] * len(ns_dict),\n",
    "        'EPS': [0.0] * len(ns_dict),\n",
    "        'P/E Ratio': [0.0] * len(ns_dict)\n",
    "    }\n",
    "    df_name = f'df_{year}'\n",
    "    company_dataframes[df_name] = pd.DataFrame(variables)"
   ]
  },
  {
   "cell_type": "code",
   "execution_count": 7,
   "id": "33e38d09-18b4-4cdd-add4-1c3db8992f21",
   "metadata": {},
   "outputs": [],
   "source": [
    "# Get Market Cap Data and turn it into a DataFrame\n",
    "\n",
    "mc_data = {}\n",
    "for symbol in symbols:\n",
    "    ticker = yf.Ticker(symbol)\n",
    "    hist = ticker.history(period=\"max\")\n",
    "    tz = hist.index.tz # Timezone\n",
    "    shares_outstanding = ticker.info['sharesOutstanding']\n",
    "    hist['Market Cap'] = hist['Close'] * shares_outstanding\n",
    "    mc_dict = {}\n",
    "    for year in years:\n",
    "        x = pd.Timestamp(f'{year + 1}-01-01', tz=tz)\n",
    "        while x not in hist.index:\n",
    "            if x.year > year + 1:\n",
    "                break\n",
    "            x += pd.Timedelta(days=1)\n",
    "        if x in hist.index:\n",
    "            marketcap = hist.loc[x, 'Market Cap']\n",
    "        else:\n",
    "            marketcap = None\n",
    "        mc_dict[year] = marketcap\n",
    "    mc_data[symbol] = mc_dict\n",
    "\n",
    "mc_df = pd.DataFrame(mc_data)"
   ]
  },
  {
   "cell_type": "code",
   "execution_count": 8,
   "id": "d61054fb-ed02-459b-b30d-ee2ffa2991ca",
   "metadata": {},
   "outputs": [],
   "source": [
    "# Updating the DataFrame with 'Market Cap' Values\n",
    "\n",
    "for year in years:\n",
    "    df_year = company_dataframes[f'df_{year}']\n",
    "    for index, row in df_year.iterrows():\n",
    "        symbol = row['Symbol']\n",
    "        market_cap = mc_df.loc[year, symbol] if symbol in mc_df.columns else None\n",
    "        df_year.at[index, 'Market Cap'] = market_cap\n",
    "    company_dataframes[f'df_{year}'] = df_year"
   ]
  },
  {
   "cell_type": "code",
   "execution_count": 9,
   "id": "5d9d8459-2747-496f-a257-bdbd95e6f8ae",
   "metadata": {},
   "outputs": [],
   "source": [
    "# Sort the DataFrame by 'Market Cap'\n",
    "\n",
    "for year in years:\n",
    "    df_year = company_dataframes[f'df_{year}']\n",
    "    df_year_reset = df_year.reset_index()\n",
    "    df_year_sorted = df_year_reset.sort_values(by=['Market Cap', 'index'], ascending=[False, True], na_position='last')\n",
    "    df_year_sorted.set_index('index', inplace=True)\n",
    "    company_dataframes[f'df_{year}'] = df_year_sorted"
   ]
  },
  {
   "cell_type": "code",
   "execution_count": 10,
   "id": "2bd38917-9ebb-4406-a0c6-96e71b18a813",
   "metadata": {},
   "outputs": [],
   "source": [
    "# Getting the CIK of the Top 20 Companies\n",
    "\n",
    "user = {'User-Agent': \"bedirian@usc.edu\"}\n",
    "def retrieve_company_tickers(headers):\n",
    "    try:\n",
    "        response = requests.get(\"https://www.sec.gov/files/company_tickers.json\", headers=headers)\n",
    "        response.raise_for_status()\n",
    "        return pd.DataFrame.from_dict(response.json(), orient='index')\n",
    "    except requests.exceptions.RequestException as err:\n",
    "        raise(f\"Request Error: {err}\")\n",
    "        \n",
    "allCompanies = retrieve_company_tickers(user)\n",
    "filteredCompanies = allCompanies[allCompanies['ticker'].isin(ns['Symbol'])]\n",
    "topCompanies = filteredCompanies.copy()\n",
    "topCompanies.rename(columns={'cik_str': 'CIK', 'ticker': 'Ticker', 'title': 'Company Name'}, inplace=True)\n",
    "topCompanies.reset_index(drop=True, inplace=True)\n",
    "topCompanies['CIK'] = topCompanies['CIK'].astype(str).str.zfill(10)"
   ]
  },
  {
   "cell_type": "code",
   "execution_count": 11,
   "id": "12d39303-a78f-42a0-9e6d-f70345b12122",
   "metadata": {},
   "outputs": [],
   "source": [
    "# Define the functions to get the neccessary financial data\n",
    "\n",
    "def get_CIK(ticker):\n",
    "    cikl = topCompanies.loc[topCompanies['Ticker'] == ticker, 'CIK'].values[0]\n",
    "    cik = str(cikl)\n",
    "    return cik\n",
    "\n",
    "def retrieve_financial_data(cik, user, variable):\n",
    "    try:\n",
    "        url = f'https://data.sec.gov/api/xbrl/companyconcept/CIK{cik}/us-gaap/{variable}.json'\n",
    "        response = requests.get(url, headers=user)\n",
    "        response.raise_for_status()\n",
    "        \n",
    "        companyFacts = requests.get(f'https://data.sec.gov/api/xbrl/companyfacts/CIK{cik}.json', headers=user)\n",
    "        unit = next(iter(companyFacts.json()['facts']['us-gaap'][variable]['units'].keys()))\n",
    "        data = pd.DataFrame.from_dict(response.json()['units'][unit])\n",
    "        \n",
    "        data['start'] = pd.to_datetime(data['start'])\n",
    "        data['end'] = pd.to_datetime(data['end'])\n",
    "        \n",
    "        data = data[data['form'] == '10-K']\n",
    "        data = data.sort_values(by='end', ascending=False).groupby(data['end'].dt.year).head(1)\n",
    "\n",
    "        data['filing'] = data['end'] + pd.DateOffset(years=1)\n",
    "        data['frame'] = np.nan\n",
    "        data.rename(columns={'start': 'Start', 'end': 'End', 'val': 'Value'}, inplace=True)\n",
    "        return data\n",
    "    \n",
    "    except requests.exceptions.RequestException as err:\n",
    "        print(f\"Request Error: {err}\")\n",
    "        return pd.DataFrame()"
   ]
  },
  {
   "cell_type": "code",
   "execution_count": 12,
   "id": "a78ce2be-2cac-49f7-9ead-5fb7b04c8cf0",
   "metadata": {},
   "outputs": [
    {
     "name": "stdout",
     "output_type": "stream",
     "text": [
      "Request Error: 404 Client Error: Not Found for url: https://data.sec.gov/api/xbrl/companyconcept/CIK0001403161/us-gaap/EarningsPerShareBasic.json\n",
      "Error retrieving data for VISA INC. (EarningsPerShareBasic): \"['Start', 'End', 'Value'] not in index\"\n",
      "Request Error: 404 Client Error: Not Found for url: https://data.sec.gov/api/xbrl/companyconcept/CIK0001018724/us-gaap/Revenues.json\n",
      "Error retrieving data for AMAZON COM INC (Revenues): \"['Start', 'End', 'Value'] not in index\"\n"
     ]
    }
   ],
   "source": [
    "# Obtain financial data\n",
    "\n",
    "variable_list = ['EarningsPerShareBasic', 'Revenues', 'NetIncomeLoss']\n",
    "\n",
    "financial_data = {}\n",
    "user = {'User-Agent': \"bedirian@usc.edu\"}\n",
    "\n",
    "for variable in variable_list:\n",
    "    variable_data = []\n",
    "    for index, row in topCompanies.iterrows():\n",
    "        cik = row['CIK']\n",
    "        try:\n",
    "            data = retrieve_financial_data(cik, user, variable)\n",
    "            data['CIK'] = cik\n",
    "            data['Ticker'] = row['Ticker']\n",
    "            data['Company Name'] = row['Company Name']\n",
    "            data['Variable'] = variable\n",
    "            variable_data.append(data[['CIK', 'Ticker', 'Company Name', 'Start', 'End', 'Value', 'Variable']])\n",
    "        except Exception as e:\n",
    "            print(f\"Error retrieving data for {row['Company Name']} ({variable}): {e}\")\n",
    "    financial_data[variable] = pd.concat(variable_data)"
   ]
  },
  {
   "cell_type": "code",
   "execution_count": 13,
   "id": "7ed0dc97-38d6-4812-842d-ca87609a8cdc",
   "metadata": {},
   "outputs": [],
   "source": [
    "# Determine the year for each row of data\n",
    "\n",
    "def month_diff(start_date, end_date):\n",
    "    return (end_date.year - start_date.year) * 12 + end_date.month - start_date.month\n",
    "\n",
    "def determine_year(start_date, end_date):\n",
    "    if start_date.month < 7:\n",
    "        return start_date.year\n",
    "    else:\n",
    "        return end_date.year\n",
    "\n",
    "for key, df in financial_data.items():\n",
    "    df['Start'] = pd.to_datetime(df['Start'])\n",
    "    df['End'] = pd.to_datetime(df['End'])\n",
    "    \n",
    "    df['Timeframe (Months)'] = df.apply(lambda row: month_diff(row['Start'], row['End']), axis=1)\n",
    "    filtered_df = df[df['Timeframe (Months)'] >= 10].copy()\n",
    "\n",
    "    filtered_df['Year'] = filtered_df.apply(lambda row: determine_year(row['Start'], row['End']), axis=1)\n",
    "    financial_data[key] = filtered_df"
   ]
  },
  {
   "cell_type": "code",
   "execution_count": 14,
   "id": "8a4170ec-6bce-4c37-ae7f-2a86076dac99",
   "metadata": {
    "tags": []
   },
   "outputs": [],
   "source": [
    "# Append variable data\n",
    "\n",
    "for year in years:\n",
    "    df = company_dataframes[f'df_{year}']\n",
    "    for symbol in df['Symbol'].unique():\n",
    "        eps_value = financial_data['EarningsPerShareBasic'][\n",
    "            (financial_data['EarningsPerShareBasic']['Ticker'] == symbol) & \n",
    "            (financial_data['EarningsPerShareBasic']['Year'] == year)\n",
    "        ]['Value']\n",
    "        if not eps_value.empty:\n",
    "            df.loc[df['Symbol'] == symbol, 'EPS'] = eps_value.iloc[0]\n",
    "        else:\n",
    "            df.loc[df['Symbol'] == symbol, 'EPS'] = None\n",
    "    company_dataframes[f'df_{year}'] = df\n",
    "    \n",
    "for year in years:\n",
    "    df = company_dataframes[f'df_{year}']\n",
    "    for symbol in df['Symbol'].unique():\n",
    "        revenue_value = financial_data['Revenues'][\n",
    "            (financial_data['Revenues']['Ticker'] == symbol) & \n",
    "            (financial_data['Revenues']['Year'] == year)\n",
    "        ]['Value']\n",
    "        if not revenue_value.empty:\n",
    "            df.loc[df['Symbol'] == symbol, 'Revenue'] = revenue_value.iloc[0]\n",
    "        else:\n",
    "            df.loc[df['Symbol'] == symbol, 'Revenue'] = None\n",
    "    company_dataframes[f'df_{year}'] = df\n",
    "    \n",
    "for year in years:\n",
    "    df = company_dataframes[f'df_{year}']\n",
    "    for symbol in df['Symbol'].unique():\n",
    "        net_value = financial_data['NetIncomeLoss'][\n",
    "            (financial_data['NetIncomeLoss']['Ticker'] == symbol) & \n",
    "            (financial_data['NetIncomeLoss']['Year'] == year)\n",
    "        ]['Value']\n",
    "        if not net_value.empty:\n",
    "            df.loc[df['Symbol'] == symbol, 'NetIncomeLoss'] = net_value.iloc[0]\n",
    "        else:\n",
    "            df.loc[df['Symbol'] == symbol, 'NetIncomeLoss'] = None\n",
    "    company_dataframes[f'df_{year}'] = df"
   ]
  },
  {
   "cell_type": "code",
   "execution_count": 15,
   "id": "5e172868-ae4f-42bd-80f8-2f3a84c48aca",
   "metadata": {},
   "outputs": [
    {
     "name": "stdout",
     "output_type": "stream",
     "text": [
      "[*********************100%%**********************]  1 of 1 completed\n",
      "[*********************100%%**********************]  1 of 1 completed\n",
      "[*********************100%%**********************]  1 of 1 completed\n",
      "[*********************100%%**********************]  1 of 1 completed\n",
      "[*********************100%%**********************]  1 of 1 completed\n",
      "[*********************100%%**********************]  1 of 1 completed\n",
      "[*********************100%%**********************]  1 of 1 completed\n",
      "[*********************100%%**********************]  1 of 1 completed\n",
      "[*********************100%%**********************]  1 of 1 completed\n",
      "[*********************100%%**********************]  1 of 1 completed\n",
      "[*********************100%%**********************]  1 of 1 completed\n",
      "[*********************100%%**********************]  1 of 1 completed\n",
      "[*********************100%%**********************]  1 of 1 completed\n",
      "[*********************100%%**********************]  1 of 1 completed\n",
      "[*********************100%%**********************]  1 of 1 completed\n",
      "[*********************100%%**********************]  1 of 1 completed\n",
      "[*********************100%%**********************]  1 of 1 completed\n",
      "[*********************100%%**********************]  1 of 1 completed\n",
      "[*********************100%%**********************]  1 of 1 completed\n",
      "[*********************100%%**********************]  1 of 1 completed\n"
     ]
    }
   ],
   "source": [
    "# Download stock data\n",
    "\n",
    "yearly_avg_prices = {}\n",
    "\n",
    "for symbol in symbols:\n",
    "    try:\n",
    "        stock_df = yf.download(symbol, period='max', interval='3mo')\n",
    "        if not stock_df.empty:\n",
    "            stock_df['Period Avg'] = stock_df[['Open', 'High', 'Low', 'Close']].mean(axis=1)\n",
    "            stock_df['Year'] = stock_df.index.year\n",
    "            yearly_avg = stock_df.groupby('Year')['Period Avg'].mean()\n",
    "            yearly_avg_prices[symbol] = yearly_avg\n",
    "    except Exception as e:\n",
    "        print(f\"Failed to download data for {symbol}: {e}\")\n",
    "\n",
    "for year in years:\n",
    "    if f'df_{year}' in company_dataframes:\n",
    "        df = company_dataframes[f'df_{year}']\n",
    "        df['Stock Price'] = float('nan')\n",
    "        for index, row in df.iterrows():\n",
    "            symbol = row['Symbol']\n",
    "            if symbol in yearly_avg_prices and year in yearly_avg_prices[symbol].index:\n",
    "                df.at[index, 'Stock Price'] = yearly_avg_prices[symbol][year]\n",
    "        company_dataframes[f'df_{year}'] = df"
   ]
  },
  {
   "cell_type": "code",
   "execution_count": 16,
   "id": "de4d426f-564f-40cd-9544-949b670ec1b2",
   "metadata": {},
   "outputs": [],
   "source": [
    "# Organize each DataFrame in the dictionary\n",
    "\n",
    "desired_order = ['Year', 'Company Name', 'Symbol', 'Stock Price', 'Market Cap', 'Revenue', 'Revenue Growth', 'NetIncomeLoss', 'Net Profit Margin', 'EPS', 'P/E Ratio']\n",
    "\n",
    "for year in years:\n",
    "    df = company_dataframes.get(f'df_{year}')\n",
    "    df = df[desired_order]\n",
    "    df = df.reset_index(drop=True)\n",
    "    company_dataframes[f'df_{year}'] = df"
   ]
  },
  {
   "cell_type": "code",
   "execution_count": 17,
   "id": "0c7b9e03-afcb-496d-918d-f12c8639cf0a",
   "metadata": {},
   "outputs": [],
   "source": [
    "# Calculate P/E Ratio, Revenue Growth, and Net Profit Margin\n",
    "\n",
    "for year in years:\n",
    "    if f'df_{year}' in company_dataframes:\n",
    "        df = company_dataframes[f'df_{year}']\n",
    "        df['P/E Ratio'] = df.apply(lambda row: row['Stock Price'] / row['EPS'] if row['EPS'] and row['EPS'] != 0 else float('nan'), axis=1)\n",
    "        company_dataframes[f'df_{year}'] = df\n",
    "\n",
    "for year in years:\n",
    "    current_df = company_dataframes.get(f'df_{year}')\n",
    "    previous_df = company_dataframes.get(f'df_{year - 1}')\n",
    "    if previous_df is not None:\n",
    "        for index, row in current_df.iterrows():\n",
    "            symbol = row['Symbol']\n",
    "            current_year_revenue = row['Revenue']\n",
    "            previous_row = previous_df[previous_df['Symbol'] == symbol]\n",
    "            if not previous_row.empty and not pd.isna(previous_row.iloc[0]['Revenue']):\n",
    "                previous_year_revenue = previous_row.iloc[0]['Revenue']\n",
    "                if not pd.isna(current_year_revenue) and not pd.isna(previous_year_revenue):\n",
    "                    revenue_growth = ((current_year_revenue - previous_year_revenue) / previous_year_revenue) * 100\n",
    "                else:\n",
    "                    revenue_growth = np.nan\n",
    "            else:\n",
    "                revenue_growth = np.nan\n",
    "            current_df.at[index, 'Revenue Growth'] = revenue_growth\n",
    "    else:\n",
    "        current_df['Revenue Growth'] = np.nan\n",
    "    company_dataframes[f'df_{year}'] = current_df\n",
    "    \n",
    "for year in years:\n",
    "    df = company_dataframes.get(f'df_{year}')\n",
    "    if df is not None:\n",
    "        for index, row in df.iterrows():\n",
    "            net_income_loss = row['NetIncomeLoss']\n",
    "            total_revenue = row['Revenue']\n",
    "            if pd.isna(net_income_loss) or pd.isna(total_revenue) or total_revenue == 0:\n",
    "                net_profit_margin = np.nan\n",
    "            else:\n",
    "                net_profit_margin = (net_income_loss / total_revenue) * 100\n",
    "            df.at[index, 'Net Profit Margin'] = net_profit_margin\n",
    "        company_dataframes[f'df_{year}'] = df"
   ]
  },
  {
   "cell_type": "code",
   "execution_count": 18,
   "id": "8867400d-f9b9-47de-afc3-9c0e239b0300",
   "metadata": {},
   "outputs": [],
   "source": [
    "# Obtaining Economic Data\n",
    "\n",
    "fred = Fred(api_key='3dba2f16e182a60610bea249ca0e9580') # Create an instance of Fred from 'fredapi' package\n",
    "def get_fred_data(series_id, start, end):\n",
    "    '''\n",
    "    Retrieves time series data from the FRED database based on the given series id,\n",
    "    where each series_id corresponds to a specific economic indicator series.\n",
    "    :param series_id: The FRED series ID.\n",
    "    :param start: The start date for the data retrieval (YYYY-MM-DD format).\n",
    "    :param end: The end date for the data retrieval (YYYY-MM-DD format).\n",
    "    :return: A Pandas DataFrame containing the retrieved data.\n",
    "    '''\n",
    "    data_series = fred.get_series(series_id, observation_start=start, observation_end=end) # Using get_series to send a request to the FRED API and retrieve the series \n",
    "    return data_series\n",
    "\n",
    "# From the FRED website, get the series IDs for the economic indicators\n",
    "gdp_growth_id = 'A191RL1Q225SBEA'  # Quarterly\n",
    "inflation_rate_id = 'FPCPITOTLZGUSA'  # Annual\n",
    "unemployment_rate_id = 'UNRATE'  # Monthly\n",
    "\n",
    "start_year = '2003-01-01'\n",
    "end_year = '2022-12-31'\n",
    "\n",
    "# Retrieve data in series format for the required economic indicators\n",
    "gdp_growth = get_fred_data(gdp_growth_id, start_year, end_year)\n",
    "inflation_rate = get_fred_data(inflation_rate_id, start_year, end_year)\n",
    "unemployment_rate = get_fred_data(unemployment_rate_id, start_year, end_year)\n",
    "\n",
    "# Convert the indices to only display the year portion\n",
    "gdp_growth.index = gdp_growth.index.year\n",
    "inflation_rate.index = inflation_rate.index.year\n",
    "unemployment_rate.index = unemployment_rate.index.year\n",
    "\n",
    "# Calculate the mean for each year\n",
    "gdp_growth = gdp_growth.groupby(gdp_growth.index).mean()\n",
    "inflation_rate = inflation_rate.groupby(inflation_rate.index).mean()\n",
    "unemployment_rate = unemployment_rate.groupby(unemployment_rate.index).mean()\n",
    "\n",
    "# Create a DataFrame by concatenating the Series\n",
    "data = pd.concat([gdp_growth, inflation_rate, unemployment_rate], axis=1)\n",
    "data.columns = [\"GDP Growth (Annual Mean)\", \"Inflation Rate (Annual Mean)\", \"Unemployment Rate (Annual Mean)\"]"
   ]
  },
  {
   "cell_type": "code",
   "execution_count": 19,
   "id": "862ad6e3-96c3-4ecd-8d93-e296f2ab8756",
   "metadata": {},
   "outputs": [],
   "source": [
    "# Create a dictionary of dataframes for each year's economic data\n",
    "\n",
    "country_dataframes = {}\n",
    "for year in range(2003, 2023):\n",
    "    year_data = data.loc[year:year]\n",
    "    year_df = pd.DataFrame(year_data)\n",
    "    country_dataframes[f'df_{year}'] = year_df"
   ]
  },
  {
   "cell_type": "code",
   "execution_count": 20,
   "id": "f2bd9f1e-0e72-47b8-9c5c-71c6358598a7",
   "metadata": {},
   "outputs": [],
   "source": [
    "# Combine both dataframes\n",
    "\n",
    "combined_dataframes = {}\n",
    "for key in country_dataframes.keys():\n",
    "    combined_data = {\n",
    "        'country_df': country_dataframes[key],\n",
    "        'company_df': company_dataframes[key]\n",
    "    }\n",
    "    combined_dataframes[key] = combined_data"
   ]
  },
  {
   "cell_type": "code",
   "execution_count": 21,
   "id": "aea89254-7dd8-48f8-b044-3963e4670614",
   "metadata": {},
   "outputs": [
    {
     "name": "stdout",
     "output_type": "stream",
     "text": [
      "Successfully saved all DataFrames to CSV files in 'data/processed/collected-dataframes' directory!\n"
     ]
    }
   ],
   "source": [
    "output_directory = 'data/processed/collected-dataframes'\n",
    "os.makedirs(output_directory, exist_ok=True)\n",
    "\n",
    "for year_key, dataframes_dict in combined_dataframes.items():\n",
    "    country_df = dataframes_dict['country_df']\n",
    "    company_df = dataframes_dict['company_df']\n",
    "    country_csv_path = os.path.join(output_directory, f'{year_key}_country.csv')\n",
    "    company_csv_path = os.path.join(output_directory, f'{year_key}_company.csv')\n",
    "    country_df.to_csv(country_csv_path, index=False)\n",
    "    company_df.to_csv(company_csv_path, index=False)\n",
    "\n",
    "print(f\"Successfully saved all DataFrames to CSV files in '{output_directory}' directory!\")"
   ]
  }
 ],
 "metadata": {
  "kernelspec": {
   "display_name": "Python 3 (ipykernel)",
   "language": "python",
   "name": "python3"
  },
  "language_info": {
   "codemirror_mode": {
    "name": "ipython",
    "version": 3
   },
   "file_extension": ".py",
   "mimetype": "text/x-python",
   "name": "python",
   "nbconvert_exporter": "python",
   "pygments_lexer": "ipython3",
   "version": "3.9.12"
  }
 },
 "nbformat": 4,
 "nbformat_minor": 5
}
